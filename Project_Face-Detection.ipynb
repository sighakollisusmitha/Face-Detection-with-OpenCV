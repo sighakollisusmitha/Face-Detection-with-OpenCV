{
 "cells": [
  {
   "cell_type": "markdown",
   "source": [
    "# Face Recognition Project"
   ],
   "metadata": {}
  },
  {
   "cell_type": "code",
   "execution_count": 1,
   "source": [
    "import numpy as np\r\n",
    "import cv2"
   ],
   "outputs": [],
   "metadata": {}
  },
  {
   "cell_type": "code",
   "execution_count": 2,
   "source": [
    "img = cv2.imread('faces.jpg')\r\n",
    "\r\n",
    "\r\n",
    "cv2.imshow('face',img)\r\n",
    "cv2.waitKey(0)\r\n",
    "cv2.destroyAllWindows()"
   ],
   "outputs": [],
   "metadata": {}
  },
  {
   "cell_type": "code",
   "execution_count": 3,
   "source": [
    "face_cascade = cv2.CascadeClassifier('./model/haarcascade_frontalface_default.xml')"
   ],
   "outputs": [],
   "metadata": {}
  },
  {
   "cell_type": "code",
   "execution_count": 12,
   "source": [
    "def face_detection(img):\r\n",
    "\r\n",
    "    image = img.copy()\r\n",
    "    # step-1: Convert image into gray scale\r\n",
    "    gray = cv2.cvtColor(img,cv2.COLOR_BGR2GRAY)\r\n",
    "    # step-2: apply gray scale image to cascasde classifier\r\n",
    "    box,detections = face_cascade.detectMultiScale2(gray,minNeighbors=8)\r\n",
    "    # step-3: drawing bounding box\r\n",
    "    for x,y,w,h in box:\r\n",
    "\r\n",
    "        cv2.rectangle(image,(x,y),(x+w,y+h),(0,255,0),1)\r\n",
    "        \r\n",
    "    return image"
   ],
   "outputs": [],
   "metadata": {}
  },
  {
   "cell_type": "code",
   "execution_count": 13,
   "source": [
    "img_detect = face_detection(img)\n",
    "\n",
    "\n",
    "cv2.imshow('face detection',img_detect)\n",
    "cv2.waitKey(0)\n",
    "cv2.destroyAllWindows()"
   ],
   "outputs": [],
   "metadata": {}
  },
  {
   "cell_type": "markdown",
   "source": [
    "# Real Time Face Detection"
   ],
   "metadata": {}
  },
  {
   "cell_type": "code",
   "execution_count": 18,
   "source": [
    "cap = cv2.VideoCapture(0)\n",
    "\n",
    "face_cascade = cv2.CascadeClassifier('./model/haarcascade_frontalface_default.xml')\n",
    "\n",
    "while True:\n",
    "    ret, frame = cap.read()\n",
    "    if ret == False:\n",
    "        break\n",
    "        \n",
    "    img_detect = face_detection(frame)\n",
    "    \n",
    "    cv2.imshow('Real Time Face Detection',img_detect)\n",
    "    if cv2.waitKey(1) == ord('a'):\n",
    "        break\n",
    "        \n",
    "        \n",
    "cap.release()\n",
    "cv2.destroyAllWindows()"
   ],
   "outputs": [],
   "metadata": {}
  },
  {
   "cell_type": "code",
   "execution_count": null,
   "source": [],
   "outputs": [],
   "metadata": {}
  },
  {
   "cell_type": "markdown",
   "source": [
    "---\n",
    "Srikanth Guskra\n",
    "\n",
    "www.datascienceanywhere.com"
   ],
   "metadata": {}
  }
 ],
 "metadata": {
  "kernelspec": {
   "display_name": "Python 3",
   "language": "python",
   "name": "python3"
  },
  "language_info": {
   "codemirror_mode": {
    "name": "ipython",
    "version": 3
   },
   "file_extension": ".py",
   "mimetype": "text/x-python",
   "name": "python",
   "nbconvert_exporter": "python",
   "pygments_lexer": "ipython3",
   "version": "3.9.2"
  }
 },
 "nbformat": 4,
 "nbformat_minor": 4
}